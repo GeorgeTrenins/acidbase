{
 "cells": [
  {
   "cell_type": "markdown",
   "id": "a56a8d9b",
   "metadata": {},
   "source": [
    "# Acid-base equilibria"
   ]
  },
  {
   "cell_type": "code",
   "execution_count": 1,
   "id": "c34fff42",
   "metadata": {},
   "outputs": [
    {
     "data": {
      "text/html": [
       "<script>\n",
       "code_show=true; \n",
       "function code_toggle() {\n",
       "if (code_show){\n",
       " $('div.input').hide();\n",
       " } else {\n",
       " $('div.input').show();\n",
       " }\n",
       " code_show = !code_show\n",
       "} \n",
       "$( document ).ready(code_toggle);\n",
       "</script>\n",
       "<form action=\"javascript:code_toggle()\"><input type=\"submit\" value=\"Click here to toggle on/off the raw code.\"></form>"
      ],
      "text/plain": [
       "<IPython.core.display.HTML object>"
      ]
     },
     "execution_count": 1,
     "metadata": {},
     "output_type": "execute_result"
    }
   ],
   "source": [
    "%matplotlib widget\n",
    "import ipywidgets as widgets\n",
    "import matplotlib.pyplot as plt\n",
    "import utils\n",
    "import numpy as np\n",
    "from IPython.display import display, HTML\n",
    "HTML('''<script>\n",
    "code_show=true; \n",
    "function code_toggle() {\n",
    "if (code_show){\n",
    " $('div.input').hide();\n",
    " } else {\n",
    " $('div.input').show();\n",
    " }\n",
    " code_show = !code_show\n",
    "} \n",
    "$( document ).ready(code_toggle);\n",
    "</script>\n",
    "<form action=\"javascript:code_toggle()\"><input type=\"submit\" value=\"Click here to toggle on/off the raw code.\"></form>''')"
   ]
  },
  {
   "cell_type": "markdown",
   "id": "78d1e922",
   "metadata": {},
   "source": [
    "## Henderson-Hasselbalch equation"
   ]
  },
  {
   "cell_type": "markdown",
   "id": "21232434",
   "metadata": {},
   "source": [
    "For a monoprotic acid,\n",
    "$$ \\mathrm{pH} = \\mathrm{p}K_\\mathrm{a} + \\log_{10} \\left( \\frac{[\\mathrm{A}^{-}]}{[\\mathrm{HA}]} \\right) $$\n",
    "and in general\n",
    "$$ k \\cdot \\mathrm{pH} = \\mathrm{p}K_{\\mathrm{a},1} + \\ldots + \\mathrm{p}K_{\\mathrm{a},k} + \\log_{10} \\left( \\frac{[\\mathrm{H}_{n-k}\\mathrm{A}^{k-}]}{[\\mathrm{H}_n\\mathrm{A}]} \\right) $$\n",
    "\n",
    "Can rearrange this to express the ratio of a particular acid species relative to their total concentration as a function of pH,\n",
    "$$ \\frac{[\\mathrm{H}_{n-k}\\mathrm{A}^{k-}]}{c_a} = \\frac{[\\mathrm{H}_{n-k}\\mathrm{A}^{k-}]}{\\sum_{j=0}^{n}\n",
    "[\\mathrm{H}_{n-j}\\mathrm{A}^{j-}]} = \\frac{\\frac{[\\mathrm{H}_{n-k}\\mathrm{A}^{k-}]}{[\\mathrm{H}_n\\mathrm{A}]}}{1 +\\sum_{j=1}^{n}\n",
    "\\frac{[\\mathrm{H}_{n-j}\\mathrm{A}^{j-}]}{[\\mathrm{H}_n\\mathrm{A}]}} = \\frac{\n",
    " 10^{k\\cdot\\mathrm{pH} - (\\mathrm{p}K_{\\mathrm{a},1} + \\ldots + \\mathrm{p}K_{\\mathrm{a},k})}\n",
    "}{\n",
    "1 + \\sum_{j=1}^{n} 10^{j\\cdot\\mathrm{pH} - (\\mathrm{p}K_{\\mathrm{a},1} + \\ldots + \\mathrm{p}K_{\\mathrm{a},j})}\n",
    "}$$\n",
    "which can be visualised on a speciation diagram."
   ]
  },
  {
   "cell_type": "code",
   "execution_count": 2,
   "id": "46742529",
   "metadata": {},
   "outputs": [
    {
     "data": {
      "application/vnd.jupyter.widget-view+json": {
       "model_id": "8558e80f177d4e7da952efb1eee8b6dd",
       "version_major": 2,
       "version_minor": 0
      },
      "text/plain": [
       "GridBox(children=(FloatSlider(value=0.0, continuous_update=False, description='\\\\(\\\\mathrm{p}K_{\\\\mathrm{a},1}…"
      ]
     },
     "metadata": {},
     "output_type": "display_data"
    }
   ],
   "source": [
    "pKa1 = widgets.FloatSlider(\n",
    "    min=-4, max=18, step=0.01, value=0.0, continuous_update=False,\n",
    "    description=r'\\(\\mathrm{p}K_{\\mathrm{a},1}\\)',\n",
    "    layout=widgets.Layout(width='auto', grid_area='pKa1')) # read in pKa1\n",
    "#\n",
    "i2 = widgets.Checkbox(\n",
    "    value=False, description=' ', \n",
    "    disabled=False, indent=False,\n",
    "    layout=widgets.Layout(width='auto', grid_area='i2')) # turn diprotic on/off\n",
    "pKa2 = widgets.FloatSlider(\n",
    "    min=-4, max=18, step=0.01, value=14.0, continuous_update=False,\n",
    "    description=r'\\(\\mathrm{p}K_{\\mathrm{a},2}\\)',\n",
    "    layout=widgets.Layout(width='auto', grid_area='pKa2')) # read in pKa2\n",
    "def update_k2_range(*args):\n",
    "    # bound pKa2 from below\n",
    "    pKa2.min = pKa1.value\n",
    "pKa1.observe(update_k2_range, 'value')\n",
    "#\n",
    "i3 = widgets.Checkbox(\n",
    "    value=False, description=' ', \n",
    "    disabled=False, indent=False,\n",
    "    layout=widgets.Layout(width='auto', grid_area='i3')) # turn triprotic on/off\n",
    "pKa3 = widgets.FloatSlider(\n",
    "    min=-4, max=18, step=0.01, value=14.0, continuous_update=False,\n",
    "    description=r'\\(\\mathrm{p}K_{\\mathrm{a},3}\\)',\n",
    "    layout=widgets.Layout(width='auto', grid_area='pKa3')) # read in pKa3\n",
    "def update_k3_range(*args):\n",
    "    # bound pKa3 from below\n",
    "    pKa3.min = pKa2.value\n",
    "pKa2.observe(update_k3_range, 'value')\n",
    "\n",
    "gs = widgets.GridBox(\n",
    "    children=[pKa1, pKa2, pKa3, i2, i3],\n",
    "        layout=widgets.Layout(\n",
    "            width='65%',\n",
    "            grid_template_rows='auto',\n",
    "            grid_template_columns='90% 10%',\n",
    "            grid_template_areas='''\n",
    "            \"  pKa1 . \"\n",
    "            \"  pKa2 i2 \"\n",
    "            \"  pKa3 i3 \"\n",
    "            ''')\n",
    "       )\n",
    "display(gs)"
   ]
  },
  {
   "cell_type": "code",
   "execution_count": 3,
   "id": "6bbf7527",
   "metadata": {},
   "outputs": [
    {
     "data": {
      "application/vnd.jupyter.widget-view+json": {
       "model_id": "00d11fcb5245495cb24f13ad0bff613b",
       "version_major": 2,
       "version_minor": 0
      },
      "text/plain": [
       "Output()"
      ]
     },
     "metadata": {},
     "output_type": "display_data"
    },
    {
     "data": {
      "application/vnd.jupyter.widget-view+json": {
       "model_id": "c7d819dc347245e6a28b6115049e97ac",
       "version_major": 2,
       "version_minor": 0
      },
      "image/png": "[encoded data removed]",
      "text/html": [
       "\n",
       "            <div style=\"display: inline-block;\">\n",
       "                <div class=\"jupyter-widgets widget-label\" style=\"text-align: center;\">\n",
       "                    Figure\n",
       "                </div>\n",
       "                <img src='data:image/png;base64,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' width=600.0/>\n",
       "            </div>\n",
       "        "
      ],
      "text/plain": [
       "Canvas(toolbar=Toolbar(toolitems=[('Home', 'Reset original view', 'home', 'home'), ('Back', 'Back to previous …"
      ]
     },
     "metadata": {},
     "output_type": "display_data"
    }
   ],
   "source": [
    "fig = plt.figure(constrained_layout=True, figsize=(6, 4))\n",
    "ax = fig.add_subplot(111)\n",
    "pH = np.linspace(0, 14, 100)\n",
    "ax.set_xlim([-1,15])\n",
    "ax.set_xlabel('pH')\n",
    "ax.set_ylim([-10,110])\n",
    "ax.set_ylabel(r'% conc.')\n",
    "lines = []\n",
    "nans = np.nan*np.ones_like(pH)\n",
    "for i in range(4):\n",
    "    lines.append(ax.plot(pH, nans)[0])\n",
    "\n",
    "def update(pKa1, pKa2, pKa3, i2, i3):\n",
    "    args = [pKa1,]\n",
    "    args.append(pKa2) if i2 else lines[-2].set_ydata(nans)\n",
    "    args.append(pKa3) if i2 and i3 else lines[-1].set_ydata(nans)\n",
    "    utils.plot_speciation(lines, pH, *args)\n",
    "    fig.canvas.draw_idle()\n",
    "\n",
    "wplot = widgets.interactive_output(update, dict(pKa1=pKa1, pKa2=pKa2, pKa3=pKa3, i2=i2, i3=i3))\n",
    "display(wplot)\n",
    "    "
   ]
  },
  {
   "cell_type": "code",
   "execution_count": null,
   "id": "1f649edc",
   "metadata": {},
   "outputs": [],
   "source": []
  }
 ],
 "metadata": {
  "kernelspec": {
   "display_name": "Python 3 (ipykernel)",
   "language": "python",
   "name": "python3"
  },
  "language_info": {
   "codemirror_mode": {
    "name": "ipython",
    "version": 3
   },
   "file_extension": ".py",
   "mimetype": "text/x-python",
   "name": "python",
   "nbconvert_exporter": "python",
   "pygments_lexer": "ipython3",
   "version": "3.8.8"
  }
 },
 "nbformat": 4,
 "nbformat_minor": 5
}
